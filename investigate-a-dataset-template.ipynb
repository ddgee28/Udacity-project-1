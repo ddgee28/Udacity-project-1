{
 "cells": [
  {
   "cell_type": "markdown",
   "metadata": {},
   "source": [
    "\n",
    "# Project: Investigating Gun Ownership\n",
    "\n",
    "## Table of Contents\n",
    "<ul>\n",
    "<li><a href=\"#intro\">Introduction</a></li>\n",
    "<li><a href=\"#wrangling\">Data Wrangling</a></li>\n",
    "<li><a href=\"#eda\">Exploratory Data Analysis</a></li>\n",
    "<li><a href=\"#conclusions\">Conclusions</a></li>\n",
    "</ul>"
   ]
  },
  {
   "cell_type": "markdown",
   "metadata": {},
   "source": [
    "<a id='intro'></a>\n",
    "## Introduction\n",
    "\n",
    "Guns have been part of American culture ever since the Revolutionary War, and attitudes towards guns vary significantly compared to attitudes in the rest of the world. However, this has led to mixed feelings among the populace, between some who strongly value their Second Amendment rights, and some who are concerned about the usage of guns in violent crimes. Because of these varying attitudes towards guns, it's natural to ask who's buying the guns.\n",
    "\n",
    "Specific questions that can address this, and ones which this study will attempt to examine, are as follows. Is there any correlation between guns and the ethnic composition of states - namely states with higher populations of White, Black, Hispanic, Asian, and Native people? Is there any correlation between guns and the gender composition of states? Is there any correlation between guns and states with higher education levels? Is there any correlation between guns and states with higher income levels? How have gun purchases changed over time, and is there any consistent pattern between states?\n",
    "\n",
    "The Federal Bureau of Investigations regulates gun ownership to some extent with background checks, and the US Census Bureau keeps track of varying demographics. Data from these organizations were used for this study."
   ]
  },
  {
   "cell_type": "code",
   "execution_count": 25,
   "metadata": {},
   "outputs": [],
   "source": [
    "# Import the necessary packages for extracting and analyzing data.\n",
    "import pandas as pd\n",
    "import numpy as np\n",
    "import matplotlib.pyplot as plt\n",
    "import seaborn as sns\n",
    "% matplotlib inline"
   ]
  },
  {
   "cell_type": "markdown",
   "metadata": {},
   "source": [
    "<a id='wrangling'></a>\n",
    "## Data Wrangling\n",
    "\n",
    "### General Properties\n",
    "\n",
    "The first step is actually to turn the FBI's gun data from the xlsx format into the csv format, so it can be loaded here. This can be done in another program like Microsoft Excel."
   ]
  },
  {
   "cell_type": "code",
   "execution_count": 26,
   "metadata": {},
   "outputs": [],
   "source": [
    "# Load the data\n",
    "df_gun = pd.read_csv(\"gun-data.csv\")\n",
    "df_census = pd.read_csv(\"u.s.-census-data.csv\")"
   ]
  },
  {
   "cell_type": "code",
   "execution_count": 27,
   "metadata": {},
   "outputs": [
    {
     "data": {
      "text/html": [
       "<div>\n",
       "<style scoped>\n",
       "    .dataframe tbody tr th:only-of-type {\n",
       "        vertical-align: middle;\n",
       "    }\n",
       "\n",
       "    .dataframe tbody tr th {\n",
       "        vertical-align: top;\n",
       "    }\n",
       "\n",
       "    .dataframe thead th {\n",
       "        text-align: right;\n",
       "    }\n",
       "</style>\n",
       "<table border=\"1\" class=\"dataframe\">\n",
       "  <thead>\n",
       "    <tr style=\"text-align: right;\">\n",
       "      <th></th>\n",
       "      <th>month</th>\n",
       "      <th>state</th>\n",
       "      <th>permit</th>\n",
       "      <th>permit_recheck</th>\n",
       "      <th>handgun</th>\n",
       "      <th>long_gun</th>\n",
       "      <th>other</th>\n",
       "      <th>multiple</th>\n",
       "      <th>admin</th>\n",
       "      <th>prepawn_handgun</th>\n",
       "      <th>...</th>\n",
       "      <th>returned_other</th>\n",
       "      <th>rentals_handgun</th>\n",
       "      <th>rentals_long_gun</th>\n",
       "      <th>private_sale_handgun</th>\n",
       "      <th>private_sale_long_gun</th>\n",
       "      <th>private_sale_other</th>\n",
       "      <th>return_to_seller_handgun</th>\n",
       "      <th>return_to_seller_long_gun</th>\n",
       "      <th>return_to_seller_other</th>\n",
       "      <th>totals</th>\n",
       "    </tr>\n",
       "  </thead>\n",
       "  <tbody>\n",
       "    <tr>\n",
       "      <th>0</th>\n",
       "      <td>2017-09</td>\n",
       "      <td>Alabama</td>\n",
       "      <td>16717.0</td>\n",
       "      <td>0.0</td>\n",
       "      <td>5734.0</td>\n",
       "      <td>6320.0</td>\n",
       "      <td>221.0</td>\n",
       "      <td>317</td>\n",
       "      <td>0.0</td>\n",
       "      <td>15.0</td>\n",
       "      <td>...</td>\n",
       "      <td>0.0</td>\n",
       "      <td>0.0</td>\n",
       "      <td>0.0</td>\n",
       "      <td>9.0</td>\n",
       "      <td>16.0</td>\n",
       "      <td>3.0</td>\n",
       "      <td>0.0</td>\n",
       "      <td>0.0</td>\n",
       "      <td>3.0</td>\n",
       "      <td>32019</td>\n",
       "    </tr>\n",
       "    <tr>\n",
       "      <th>1</th>\n",
       "      <td>2017-09</td>\n",
       "      <td>Alaska</td>\n",
       "      <td>209.0</td>\n",
       "      <td>2.0</td>\n",
       "      <td>2320.0</td>\n",
       "      <td>2930.0</td>\n",
       "      <td>219.0</td>\n",
       "      <td>160</td>\n",
       "      <td>0.0</td>\n",
       "      <td>5.0</td>\n",
       "      <td>...</td>\n",
       "      <td>0.0</td>\n",
       "      <td>0.0</td>\n",
       "      <td>0.0</td>\n",
       "      <td>17.0</td>\n",
       "      <td>24.0</td>\n",
       "      <td>1.0</td>\n",
       "      <td>0.0</td>\n",
       "      <td>0.0</td>\n",
       "      <td>0.0</td>\n",
       "      <td>6303</td>\n",
       "    </tr>\n",
       "    <tr>\n",
       "      <th>2</th>\n",
       "      <td>2017-09</td>\n",
       "      <td>Arizona</td>\n",
       "      <td>5069.0</td>\n",
       "      <td>382.0</td>\n",
       "      <td>11063.0</td>\n",
       "      <td>7946.0</td>\n",
       "      <td>920.0</td>\n",
       "      <td>631</td>\n",
       "      <td>0.0</td>\n",
       "      <td>13.0</td>\n",
       "      <td>...</td>\n",
       "      <td>0.0</td>\n",
       "      <td>0.0</td>\n",
       "      <td>0.0</td>\n",
       "      <td>38.0</td>\n",
       "      <td>12.0</td>\n",
       "      <td>2.0</td>\n",
       "      <td>0.0</td>\n",
       "      <td>0.0</td>\n",
       "      <td>0.0</td>\n",
       "      <td>28394</td>\n",
       "    </tr>\n",
       "    <tr>\n",
       "      <th>3</th>\n",
       "      <td>2017-09</td>\n",
       "      <td>Arkansas</td>\n",
       "      <td>2935.0</td>\n",
       "      <td>632.0</td>\n",
       "      <td>4347.0</td>\n",
       "      <td>6063.0</td>\n",
       "      <td>165.0</td>\n",
       "      <td>366</td>\n",
       "      <td>51.0</td>\n",
       "      <td>12.0</td>\n",
       "      <td>...</td>\n",
       "      <td>0.0</td>\n",
       "      <td>0.0</td>\n",
       "      <td>0.0</td>\n",
       "      <td>13.0</td>\n",
       "      <td>23.0</td>\n",
       "      <td>0.0</td>\n",
       "      <td>0.0</td>\n",
       "      <td>2.0</td>\n",
       "      <td>1.0</td>\n",
       "      <td>17747</td>\n",
       "    </tr>\n",
       "    <tr>\n",
       "      <th>4</th>\n",
       "      <td>2017-09</td>\n",
       "      <td>California</td>\n",
       "      <td>57839.0</td>\n",
       "      <td>0.0</td>\n",
       "      <td>37165.0</td>\n",
       "      <td>24581.0</td>\n",
       "      <td>2984.0</td>\n",
       "      <td>0</td>\n",
       "      <td>0.0</td>\n",
       "      <td>0.0</td>\n",
       "      <td>...</td>\n",
       "      <td>0.0</td>\n",
       "      <td>0.0</td>\n",
       "      <td>0.0</td>\n",
       "      <td>0.0</td>\n",
       "      <td>0.0</td>\n",
       "      <td>0.0</td>\n",
       "      <td>0.0</td>\n",
       "      <td>0.0</td>\n",
       "      <td>0.0</td>\n",
       "      <td>123506</td>\n",
       "    </tr>\n",
       "  </tbody>\n",
       "</table>\n",
       "<p>5 rows × 27 columns</p>\n",
       "</div>"
      ],
      "text/plain": [
       "     month       state   permit  permit_recheck  handgun  long_gun   other  \\\n",
       "0  2017-09     Alabama  16717.0             0.0   5734.0    6320.0   221.0   \n",
       "1  2017-09      Alaska    209.0             2.0   2320.0    2930.0   219.0   \n",
       "2  2017-09     Arizona   5069.0           382.0  11063.0    7946.0   920.0   \n",
       "3  2017-09    Arkansas   2935.0           632.0   4347.0    6063.0   165.0   \n",
       "4  2017-09  California  57839.0             0.0  37165.0   24581.0  2984.0   \n",
       "\n",
       "   multiple  admin  prepawn_handgun   ...    returned_other  rentals_handgun  \\\n",
       "0       317    0.0             15.0   ...               0.0              0.0   \n",
       "1       160    0.0              5.0   ...               0.0              0.0   \n",
       "2       631    0.0             13.0   ...               0.0              0.0   \n",
       "3       366   51.0             12.0   ...               0.0              0.0   \n",
       "4         0    0.0              0.0   ...               0.0              0.0   \n",
       "\n",
       "   rentals_long_gun  private_sale_handgun  private_sale_long_gun  \\\n",
       "0               0.0                   9.0                   16.0   \n",
       "1               0.0                  17.0                   24.0   \n",
       "2               0.0                  38.0                   12.0   \n",
       "3               0.0                  13.0                   23.0   \n",
       "4               0.0                   0.0                    0.0   \n",
       "\n",
       "   private_sale_other  return_to_seller_handgun  return_to_seller_long_gun  \\\n",
       "0                 3.0                       0.0                        0.0   \n",
       "1                 1.0                       0.0                        0.0   \n",
       "2                 2.0                       0.0                        0.0   \n",
       "3                 0.0                       0.0                        2.0   \n",
       "4                 0.0                       0.0                        0.0   \n",
       "\n",
       "   return_to_seller_other  totals  \n",
       "0                     3.0   32019  \n",
       "1                     0.0    6303  \n",
       "2                     0.0   28394  \n",
       "3                     1.0   17747  \n",
       "4                     0.0  123506  \n",
       "\n",
       "[5 rows x 27 columns]"
      ]
     },
     "execution_count": 27,
     "metadata": {},
     "output_type": "execute_result"
    }
   ],
   "source": [
    "# Examine the gun data\n",
    "df_gun.head()"
   ]
  },
  {
   "cell_type": "code",
   "execution_count": 28,
   "metadata": {},
   "outputs": [
    {
     "data": {
      "text/html": [
       "<div>\n",
       "<style scoped>\n",
       "    .dataframe tbody tr th:only-of-type {\n",
       "        vertical-align: middle;\n",
       "    }\n",
       "\n",
       "    .dataframe tbody tr th {\n",
       "        vertical-align: top;\n",
       "    }\n",
       "\n",
       "    .dataframe thead th {\n",
       "        text-align: right;\n",
       "    }\n",
       "</style>\n",
       "<table border=\"1\" class=\"dataframe\">\n",
       "  <thead>\n",
       "    <tr style=\"text-align: right;\">\n",
       "      <th></th>\n",
       "      <th>Fact</th>\n",
       "      <th>Fact Note</th>\n",
       "      <th>Alabama</th>\n",
       "      <th>Alaska</th>\n",
       "      <th>Arizona</th>\n",
       "      <th>Arkansas</th>\n",
       "      <th>California</th>\n",
       "      <th>Colorado</th>\n",
       "      <th>Connecticut</th>\n",
       "      <th>Delaware</th>\n",
       "      <th>...</th>\n",
       "      <th>South Dakota</th>\n",
       "      <th>Tennessee</th>\n",
       "      <th>Texas</th>\n",
       "      <th>Utah</th>\n",
       "      <th>Vermont</th>\n",
       "      <th>Virginia</th>\n",
       "      <th>Washington</th>\n",
       "      <th>West Virginia</th>\n",
       "      <th>Wisconsin</th>\n",
       "      <th>Wyoming</th>\n",
       "    </tr>\n",
       "  </thead>\n",
       "  <tbody>\n",
       "    <tr>\n",
       "      <th>0</th>\n",
       "      <td>Population estimates, July 1, 2016,  (V2016)</td>\n",
       "      <td>NaN</td>\n",
       "      <td>4,863,300</td>\n",
       "      <td>741,894</td>\n",
       "      <td>6,931,071</td>\n",
       "      <td>2,988,248</td>\n",
       "      <td>39,250,017</td>\n",
       "      <td>5,540,545</td>\n",
       "      <td>3,576,452</td>\n",
       "      <td>952,065</td>\n",
       "      <td>...</td>\n",
       "      <td>865454</td>\n",
       "      <td>6651194</td>\n",
       "      <td>27,862,596</td>\n",
       "      <td>3,051,217</td>\n",
       "      <td>624,594</td>\n",
       "      <td>8,411,808</td>\n",
       "      <td>7,288,000</td>\n",
       "      <td>1,831,102</td>\n",
       "      <td>5,778,708</td>\n",
       "      <td>585,501</td>\n",
       "    </tr>\n",
       "    <tr>\n",
       "      <th>1</th>\n",
       "      <td>Population estimates base, April 1, 2010,  (V2...</td>\n",
       "      <td>NaN</td>\n",
       "      <td>4,780,131</td>\n",
       "      <td>710,249</td>\n",
       "      <td>6,392,301</td>\n",
       "      <td>2,916,025</td>\n",
       "      <td>37,254,522</td>\n",
       "      <td>5,029,324</td>\n",
       "      <td>3,574,114</td>\n",
       "      <td>897,936</td>\n",
       "      <td>...</td>\n",
       "      <td>814195</td>\n",
       "      <td>6346298</td>\n",
       "      <td>25,146,100</td>\n",
       "      <td>2,763,888</td>\n",
       "      <td>625,741</td>\n",
       "      <td>8,001,041</td>\n",
       "      <td>6,724,545</td>\n",
       "      <td>1,853,011</td>\n",
       "      <td>5,687,289</td>\n",
       "      <td>563,767</td>\n",
       "    </tr>\n",
       "    <tr>\n",
       "      <th>2</th>\n",
       "      <td>Population, percent change - April 1, 2010 (es...</td>\n",
       "      <td>NaN</td>\n",
       "      <td>1.70%</td>\n",
       "      <td>4.50%</td>\n",
       "      <td>8.40%</td>\n",
       "      <td>2.50%</td>\n",
       "      <td>5.40%</td>\n",
       "      <td>10.20%</td>\n",
       "      <td>0.10%</td>\n",
       "      <td>6.00%</td>\n",
       "      <td>...</td>\n",
       "      <td>0.063</td>\n",
       "      <td>0.048</td>\n",
       "      <td>10.80%</td>\n",
       "      <td>10.40%</td>\n",
       "      <td>-0.20%</td>\n",
       "      <td>5.10%</td>\n",
       "      <td>8.40%</td>\n",
       "      <td>-1.20%</td>\n",
       "      <td>1.60%</td>\n",
       "      <td>3.90%</td>\n",
       "    </tr>\n",
       "    <tr>\n",
       "      <th>3</th>\n",
       "      <td>Population, Census, April 1, 2010</td>\n",
       "      <td>NaN</td>\n",
       "      <td>4,779,736</td>\n",
       "      <td>710,231</td>\n",
       "      <td>6,392,017</td>\n",
       "      <td>2,915,918</td>\n",
       "      <td>37,253,956</td>\n",
       "      <td>5,029,196</td>\n",
       "      <td>3,574,097</td>\n",
       "      <td>897,934</td>\n",
       "      <td>...</td>\n",
       "      <td>814180</td>\n",
       "      <td>6346105</td>\n",
       "      <td>25,145,561</td>\n",
       "      <td>2,763,885</td>\n",
       "      <td>625,741</td>\n",
       "      <td>8,001,024</td>\n",
       "      <td>6,724,540</td>\n",
       "      <td>1,852,994</td>\n",
       "      <td>5,686,986</td>\n",
       "      <td>563,626</td>\n",
       "    </tr>\n",
       "    <tr>\n",
       "      <th>4</th>\n",
       "      <td>Persons under 5 years, percent, July 1, 2016, ...</td>\n",
       "      <td>NaN</td>\n",
       "      <td>6.00%</td>\n",
       "      <td>7.30%</td>\n",
       "      <td>6.30%</td>\n",
       "      <td>6.40%</td>\n",
       "      <td>6.30%</td>\n",
       "      <td>6.10%</td>\n",
       "      <td>5.20%</td>\n",
       "      <td>5.80%</td>\n",
       "      <td>...</td>\n",
       "      <td>0.071</td>\n",
       "      <td>0.061</td>\n",
       "      <td>7.20%</td>\n",
       "      <td>8.30%</td>\n",
       "      <td>4.90%</td>\n",
       "      <td>6.10%</td>\n",
       "      <td>6.20%</td>\n",
       "      <td>5.50%</td>\n",
       "      <td>5.80%</td>\n",
       "      <td>6.50%</td>\n",
       "    </tr>\n",
       "  </tbody>\n",
       "</table>\n",
       "<p>5 rows × 52 columns</p>\n",
       "</div>"
      ],
      "text/plain": [
       "                                                Fact Fact Note    Alabama  \\\n",
       "0       Population estimates, July 1, 2016,  (V2016)       NaN  4,863,300   \n",
       "1  Population estimates base, April 1, 2010,  (V2...       NaN  4,780,131   \n",
       "2  Population, percent change - April 1, 2010 (es...       NaN      1.70%   \n",
       "3                  Population, Census, April 1, 2010       NaN  4,779,736   \n",
       "4  Persons under 5 years, percent, July 1, 2016, ...       NaN      6.00%   \n",
       "\n",
       "    Alaska    Arizona   Arkansas  California   Colorado Connecticut Delaware  \\\n",
       "0  741,894  6,931,071  2,988,248  39,250,017  5,540,545   3,576,452  952,065   \n",
       "1  710,249  6,392,301  2,916,025  37,254,522  5,029,324   3,574,114  897,936   \n",
       "2    4.50%      8.40%      2.50%       5.40%     10.20%       0.10%    6.00%   \n",
       "3  710,231  6,392,017  2,915,918  37,253,956  5,029,196   3,574,097  897,934   \n",
       "4    7.30%      6.30%      6.40%       6.30%      6.10%       5.20%    5.80%   \n",
       "\n",
       "    ...    South Dakota Tennessee       Texas       Utah  Vermont   Virginia  \\\n",
       "0   ...          865454   6651194  27,862,596  3,051,217  624,594  8,411,808   \n",
       "1   ...          814195   6346298  25,146,100  2,763,888  625,741  8,001,041   \n",
       "2   ...           0.063     0.048      10.80%     10.40%   -0.20%      5.10%   \n",
       "3   ...          814180   6346105  25,145,561  2,763,885  625,741  8,001,024   \n",
       "4   ...           0.071     0.061       7.20%      8.30%    4.90%      6.10%   \n",
       "\n",
       "  Washington West Virginia  Wisconsin  Wyoming  \n",
       "0  7,288,000     1,831,102  5,778,708  585,501  \n",
       "1  6,724,545     1,853,011  5,687,289  563,767  \n",
       "2      8.40%        -1.20%      1.60%    3.90%  \n",
       "3  6,724,540     1,852,994  5,686,986  563,626  \n",
       "4      6.20%         5.50%      5.80%    6.50%  \n",
       "\n",
       "[5 rows x 52 columns]"
      ]
     },
     "execution_count": 28,
     "metadata": {},
     "output_type": "execute_result"
    }
   ],
   "source": [
    "# Examine the census data\n",
    "df_census.head()"
   ]
  },
  {
   "cell_type": "code",
   "execution_count": 29,
   "metadata": {},
   "outputs": [
    {
     "data": {
      "text/plain": [
       "array(['2017-09', '2017-08', '2017-07', '2017-06', '2017-05', '2017-04',\n",
       "       '2017-03', '2017-02', '2017-01', '2016-12', '2016-11', '2016-10',\n",
       "       '2016-09', '2016-08', '2016-07', '2016-06', '2016-05', '2016-04',\n",
       "       '2016-03', '2016-02', '2016-01', '2015-12', '2015-11', '2015-10',\n",
       "       '2015-09', '2015-08', '2015-07', '2015-06', '2015-05', '2015-04',\n",
       "       '2015-03', '2015-02', '2015-01', '2014-12', '2014-11', '2014-10',\n",
       "       '2014-09', '2014-08', '2014-07', '2014-06', '2014-05', '2014-04',\n",
       "       '2014-03', '2014-02', '2014-01', '2013-12', '2013-11', '2013-10',\n",
       "       '2013-09', '2013-08', '2013-07', '2013-06', '2013-05', '2013-04',\n",
       "       '2013-03', '2013-02', '2013-01', '2012-12', '2012-11', '2012-10',\n",
       "       '2012-09', '2012-08', '2012-07', '2012-06', '2012-05', '2012-04',\n",
       "       '2012-03', '2012-02', '2012-01', '2011-12', '2011-11', '2011-10',\n",
       "       '2011-09', '2011-08', '2011-07', '2011-06', '2011-05', '2011-04',\n",
       "       '2011-03', '2011-02', '2011-01', '2010-12', '2010-11', '2010-10',\n",
       "       '2010-09', '2010-08', '2010-07', '2010-06', '2010-05', '2010-04',\n",
       "       '2010-03', '2010-02', '2010-01', '2009-12', '2009-11', '2009-10',\n",
       "       '2009-09', '2009-08', '2009-07', '2009-06', '2009-05', '2009-04',\n",
       "       '2009-03', '2009-02', '2009-01', '2008-12', '2008-11', '2008-10',\n",
       "       '2008-09', '2008-08', '2008-07', '2008-06', '2008-05', '2008-04',\n",
       "       '2008-03', '2008-02', '2008-01', '2007-12', '2007-11', '2007-10',\n",
       "       '2007-09', '2007-08', '2007-07', '2007-06', '2007-05', '2007-04',\n",
       "       '2007-03', '2007-02', '2007-01', '2006-12', '2006-11', '2006-10',\n",
       "       '2006-09', '2006-08', '2006-07', '2006-06', '2006-05', '2006-04',\n",
       "       '2006-03', '2006-02', '2006-01', '2005-12', '2005-11', '2005-10',\n",
       "       '2005-09', '2005-08', '2005-07', '2005-06', '2005-05', '2005-04',\n",
       "       '2005-03', '2005-02', '2005-01', '2004-12', '2004-11', '2004-10',\n",
       "       '2004-09', '2004-08', '2004-07', '2004-06', '2004-05', '2004-04',\n",
       "       '2004-03', '2004-02', '2004-01', '2003-12', '2003-11', '2003-10',\n",
       "       '2003-09', '2003-08', '2003-07', '2003-06', '2003-05', '2003-04',\n",
       "       '2003-03', '2003-02', '2003-01', '2002-12', '2002-11', '2002-10',\n",
       "       '2002-09', '2002-08', '2002-07', '2002-06', '2002-05', '2002-04',\n",
       "       '2002-03', '2002-02', '2002-01', '2001-12', '2001-11', '2001-10',\n",
       "       '2001-09', '2001-08', '2001-07', '2001-06', '2001-05', '2001-04',\n",
       "       '2001-03', '2001-02', '2001-01', '2000-12', '2000-11', '2000-10',\n",
       "       '2000-09', '2000-08', '2000-07', '2000-06', '2000-05', '2000-04',\n",
       "       '2000-03', '2000-02', '2000-01', '1999-12', '1999-11', '1999-10',\n",
       "       '1999-09', '1999-08', '1999-07', '1999-06', '1999-05', '1999-04',\n",
       "       '1999-03', '1999-02', '1999-01', '1998-12', '1998-11'],\n",
       "      dtype=object)"
      ]
     },
     "execution_count": 29,
     "metadata": {},
     "output_type": "execute_result"
    }
   ],
   "source": [
    "# See which months are covered by the gun data.\n",
    "df_gun[\"month\"].unique()"
   ]
  },
  {
   "cell_type": "code",
   "execution_count": 30,
   "metadata": {},
   "outputs": [
    {
     "data": {
      "text/plain": [
       "array(['Alabama', 'Alaska', 'Arizona', 'Arkansas', 'California',\n",
       "       'Colorado', 'Connecticut', 'Delaware', 'District of Columbia',\n",
       "       'Florida', 'Georgia', 'Guam', 'Hawaii', 'Idaho', 'Illinois',\n",
       "       'Indiana', 'Iowa', 'Kansas', 'Kentucky', 'Louisiana', 'Maine',\n",
       "       'Mariana Islands', 'Maryland', 'Massachusetts', 'Michigan',\n",
       "       'Minnesota', 'Mississippi', 'Missouri', 'Montana', 'Nebraska',\n",
       "       'Nevada', 'New Hampshire', 'New Jersey', 'New Mexico', 'New York',\n",
       "       'North Carolina', 'North Dakota', 'Ohio', 'Oklahoma', 'Oregon',\n",
       "       'Pennsylvania', 'Puerto Rico', 'Rhode Island', 'South Carolina',\n",
       "       'South Dakota', 'Tennessee', 'Texas', 'Utah', 'Vermont',\n",
       "       'Virgin Islands', 'Virginia', 'Washington', 'West Virginia',\n",
       "       'Wisconsin', 'Wyoming'], dtype=object)"
      ]
     },
     "execution_count": 30,
     "metadata": {},
     "output_type": "execute_result"
    }
   ],
   "source": [
    "# See which states were part of the gun data collection\n",
    "df_gun[\"state\"].unique()"
   ]
  },
  {
   "cell_type": "code",
   "execution_count": 31,
   "metadata": {},
   "outputs": [
    {
     "data": {
      "text/plain": [
       "array(['Population estimates, July 1, 2016,  (V2016)',\n",
       "       'Population estimates base, April 1, 2010,  (V2016)',\n",
       "       'Population, percent change - April 1, 2010 (estimates base) to July 1, 2016,  (V2016)',\n",
       "       'Population, Census, April 1, 2010',\n",
       "       'Persons under 5 years, percent, July 1, 2016,  (V2016)',\n",
       "       'Persons under 5 years, percent, April 1, 2010',\n",
       "       'Persons under 18 years, percent, July 1, 2016,  (V2016)',\n",
       "       'Persons under 18 years, percent, April 1, 2010',\n",
       "       'Persons 65 years and over, percent,  July 1, 2016,  (V2016)',\n",
       "       'Persons 65 years and over, percent, April 1, 2010',\n",
       "       'Female persons, percent,  July 1, 2016,  (V2016)',\n",
       "       'Female persons, percent, April 1, 2010',\n",
       "       'White alone, percent, July 1, 2016,  (V2016)',\n",
       "       'Black or African American alone, percent, July 1, 2016,  (V2016)',\n",
       "       'American Indian and Alaska Native alone, percent, July 1, 2016,  (V2016)',\n",
       "       'Asian alone, percent, July 1, 2016,  (V2016)',\n",
       "       'Native Hawaiian and Other Pacific Islander alone, percent, July 1, 2016,  (V2016)',\n",
       "       'Two or More Races, percent, July 1, 2016,  (V2016)',\n",
       "       'Hispanic or Latino, percent, July 1, 2016,  (V2016)',\n",
       "       'White alone, not Hispanic or Latino, percent, July 1, 2016,  (V2016)',\n",
       "       'Veterans, 2011-2015', 'Foreign born persons, percent, 2011-2015',\n",
       "       'Housing units,  July 1, 2016,  (V2016)',\n",
       "       'Housing units, April 1, 2010',\n",
       "       'Owner-occupied housing unit rate, 2011-2015',\n",
       "       'Median value of owner-occupied housing units, 2011-2015',\n",
       "       'Median selected monthly owner costs -with a mortgage, 2011-2015',\n",
       "       'Median selected monthly owner costs -without a mortgage, 2011-2015',\n",
       "       'Median gross rent, 2011-2015', 'Building permits, 2016',\n",
       "       'Households, 2011-2015', 'Persons per household, 2011-2015',\n",
       "       'Living in same house 1 year ago, percent of persons age 1 year+, 2011-2015',\n",
       "       'Language other than English spoken at home, percent of persons age 5 years+, 2011-2015',\n",
       "       'High school graduate or higher, percent of persons age 25 years+, 2011-2015',\n",
       "       \"Bachelor's degree or higher, percent of persons age 25 years+, 2011-2015\",\n",
       "       'With a disability, under age 65 years, percent, 2011-2015',\n",
       "       'Persons  without health insurance, under age 65 years, percent',\n",
       "       'In civilian labor force, total, percent of population age 16 years+, 2011-2015',\n",
       "       'In civilian labor force, female, percent of population age 16 years+, 2011-2015',\n",
       "       'Total accommodation and food services sales, 2012 ($1,000)',\n",
       "       'Total health care and social assistance receipts/revenue, 2012 ($1,000)',\n",
       "       'Total manufacturers shipments, 2012 ($1,000)',\n",
       "       'Total merchant wholesaler sales, 2012 ($1,000)',\n",
       "       'Total retail sales, 2012 ($1,000)',\n",
       "       'Total retail sales per capita, 2012',\n",
       "       'Mean travel time to work (minutes), workers age 16 years+, 2011-2015',\n",
       "       'Median household income (in 2015 dollars), 2011-2015',\n",
       "       'Per capita income in past 12 months (in 2015 dollars), 2011-2015',\n",
       "       'Persons in poverty, percent',\n",
       "       'Total employer establishments, 2015', 'Total employment, 2015',\n",
       "       'Total annual payroll, 2015 ($1,000)',\n",
       "       'Total employment, percent change, 2014-2015',\n",
       "       'Total nonemployer establishments, 2015', 'All firms, 2012',\n",
       "       'Men-owned firms, 2012', 'Women-owned firms, 2012',\n",
       "       'Minority-owned firms, 2012', 'Nonminority-owned firms, 2012',\n",
       "       'Veteran-owned firms, 2012', 'Nonveteran-owned firms, 2012',\n",
       "       'Population per square mile, 2010',\n",
       "       'Land area in square miles, 2010', 'FIPS Code', nan,\n",
       "       'NOTE: FIPS Code values are enclosed in quotes to ensure leading zeros remain intact.',\n",
       "       'Value Notes', '1', 'Fact Notes', '(a)', '(b)', '(c)',\n",
       "       'Value Flags', '-', 'D', 'F', 'FN', 'S', 'X', 'Z'], dtype=object)"
      ]
     },
     "execution_count": 31,
     "metadata": {},
     "output_type": "execute_result"
    }
   ],
   "source": [
    "# See what demographics were studied in the census\n",
    "df_census[\"Fact\"].unique()"
   ]
  },
  {
   "cell_type": "markdown",
   "metadata": {},
   "source": [
    "Some details pop out about these databases. First and foremost, the gun data is organized by month and state, while the census data is organized by state, but with one listing states by rows and the other listing states by columns. Second, the gun data includes territories, while the census data doesn't. Third, the census data has different formats in some states: some use strings and include dollar signs and percents, while some use strings and give actual numbers, but a few even use letters to stand in (like \"Z\" for something greater than zero but less than half the minimum measurable unit). Fourth, there are plenty of null values where entries are not applicable. Fifth, the categories in the census data are rather specific, and as a result create long labels."
   ]
  },
  {
   "cell_type": "markdown",
   "metadata": {},
   "source": [
    "\n",
    "### Data Cleaning"
   ]
  },
  {
   "cell_type": "markdown",
   "metadata": {},
   "source": [
    "First, note where the null values are:"
   ]
  },
  {
   "cell_type": "code",
   "execution_count": 32,
   "metadata": {},
   "outputs": [
    {
     "data": {
      "text/plain": [
       "month                            0\n",
       "state                            0\n",
       "permit                          24\n",
       "permit_recheck               11385\n",
       "handgun                         20\n",
       "long_gun                        19\n",
       "other                         6985\n",
       "multiple                         0\n",
       "admin                           23\n",
       "prepawn_handgun               1943\n",
       "prepawn_long_gun              1945\n",
       "prepawn_other                 7370\n",
       "redemption_handgun            1940\n",
       "redemption_long_gun           1941\n",
       "redemption_other              7370\n",
       "returned_handgun             10285\n",
       "returned_long_gun            10340\n",
       "returned_other               10670\n",
       "rentals_handgun              11495\n",
       "rentals_long_gun             11660\n",
       "private_sale_handgun          9735\n",
       "private_sale_long_gun         9735\n",
       "private_sale_other            9735\n",
       "return_to_seller_handgun     10010\n",
       "return_to_seller_long_gun     9735\n",
       "return_to_seller_other       10230\n",
       "totals                           0\n",
       "dtype: int64"
      ]
     },
     "execution_count": 32,
     "metadata": {},
     "output_type": "execute_result"
    }
   ],
   "source": [
    "df_gun.isnull().sum()"
   ]
  },
  {
   "cell_type": "markdown",
   "metadata": {},
   "source": [
    "While the reasons for null values in this data set might be because no data was collected or there was no data to enter, the most relevant columns - month, state, totals - have no null values. Since these are the ones of interest for this study, it makes sense to select them (instead of dropping all null columns, as there are several of those but only three of these)."
   ]
  },
  {
   "cell_type": "code",
   "execution_count": 33,
   "metadata": {},
   "outputs": [
    {
     "data": {
      "text/plain": [
       "month     0\n",
       "state     0\n",
       "totals    0\n",
       "dtype: int64"
      ]
     },
     "execution_count": 33,
     "metadata": {},
     "output_type": "execute_result"
    }
   ],
   "source": [
    "df_gun = pd.concat([df_gun[\"month\"],df_gun[\"state\"],df_gun[\"totals\"]], axis=1)\n",
    "df_gun.isnull().sum()"
   ]
  },
  {
   "cell_type": "markdown",
   "metadata": {},
   "source": [
    "A quick glance over the original data shows no apparent duplicate entries, but it's still worthwhile to check."
   ]
  },
  {
   "cell_type": "code",
   "execution_count": 34,
   "metadata": {},
   "outputs": [
    {
     "data": {
      "text/plain": [
       "False"
      ]
     },
     "execution_count": 34,
     "metadata": {},
     "output_type": "execute_result"
    }
   ],
   "source": [
    "df_gun.duplicated().any()"
   ]
  },
  {
   "cell_type": "markdown",
   "metadata": {},
   "source": [
    "For the census data:"
   ]
  },
  {
   "cell_type": "code",
   "execution_count": 35,
   "metadata": {},
   "outputs": [
    {
     "data": {
      "text/plain": [
       "Fact               5\n",
       "Fact Note         57\n",
       "Alabama           20\n",
       "Alaska            20\n",
       "Arizona           20\n",
       "Arkansas          20\n",
       "California        20\n",
       "Colorado          20\n",
       "Connecticut       20\n",
       "Delaware          20\n",
       "Florida           20\n",
       "Georgia           20\n",
       "Hawaii            20\n",
       "Idaho             20\n",
       "Illinois          20\n",
       "Indiana           20\n",
       "Iowa              20\n",
       "Kansas            20\n",
       "Kentucky          20\n",
       "Louisiana         20\n",
       "Maine             20\n",
       "Maryland          20\n",
       "Massachusetts     20\n",
       "Michigan          20\n",
       "Minnesota         20\n",
       "Mississippi       20\n",
       "Missouri          20\n",
       "Montana           20\n",
       "Nebraska          20\n",
       "Nevada            20\n",
       "New Hampshire     20\n",
       "New Jersey        20\n",
       "New Mexico        20\n",
       "New York          20\n",
       "North Carolina    20\n",
       "North Dakota      20\n",
       "Ohio              20\n",
       "Oklahoma          20\n",
       "Oregon            20\n",
       "Pennsylvania      20\n",
       "Rhode Island      20\n",
       "South Carolina    20\n",
       "South Dakota      20\n",
       "Tennessee         20\n",
       "Texas             20\n",
       "Utah              20\n",
       "Vermont           20\n",
       "Virginia          20\n",
       "Washington        20\n",
       "West Virginia     20\n",
       "Wisconsin         20\n",
       "Wyoming           20\n",
       "dtype: int64"
      ]
     },
     "execution_count": 35,
     "metadata": {},
     "output_type": "execute_result"
    }
   ],
   "source": [
    "df_census.isnull().sum()"
   ]
  },
  {
   "cell_type": "markdown",
   "metadata": {},
   "source": [
    "The main problem is that \"dropna\" won't work, because it will eliminate all rows. The reason is that one column has a bunch of notes for facts, but lists \"NaN\" for many categories. The workaround is to drop this one column, then drop all rows with null values."
   ]
  },
  {
   "cell_type": "code",
   "execution_count": 36,
   "metadata": {},
   "outputs": [],
   "source": [
    "df_census.drop(\"Fact Note\", axis=1, inplace=True)\n",
    "df_census.dropna(inplace=True)"
   ]
  },
  {
   "cell_type": "markdown",
   "metadata": {},
   "source": [
    "Another quick glance over the original data shows there were no duplicate categories of demographics, but checking:"
   ]
  },
  {
   "cell_type": "code",
   "execution_count": 37,
   "metadata": {},
   "outputs": [
    {
     "data": {
      "text/plain": [
       "False"
      ]
     },
     "execution_count": 37,
     "metadata": {},
     "output_type": "execute_result"
    }
   ],
   "source": [
    "df_census.duplicated().any()"
   ]
  },
  {
   "cell_type": "markdown",
   "metadata": {},
   "source": [
    "To merge the census data with the gun data in any meaningful form, the dataframe must be transposed so the states become the rows. However, one column - \"Fact\" - is not a state, so to ensure it is done correctly, this would be made into the new index."
   ]
  },
  {
   "cell_type": "code",
   "execution_count": 38,
   "metadata": {},
   "outputs": [],
   "source": [
    "df_states = df_census.set_index(\"Fact\")                            #Reset the index\n",
    "df_states = df_states.transpose()                                  #Transpose\n",
    "df_states.reset_index(inplace=True)                                #Make new index for states\n",
    "df_states.rename({\"index\":\"state\"}, axis=\"columns\", inplace=True)"
   ]
  },
  {
   "cell_type": "code",
   "execution_count": 39,
   "metadata": {},
   "outputs": [
    {
     "name": "stdout",
     "output_type": "stream",
     "text": [
      "<class 'pandas.core.frame.DataFrame'>\n",
      "RangeIndex: 50 entries, 0 to 49\n",
      "Data columns (total 66 columns):\n",
      "state                                                                                     50 non-null object\n",
      "Population estimates, July 1, 2016,  (V2016)                                              50 non-null object\n",
      "Population estimates base, April 1, 2010,  (V2016)                                        50 non-null object\n",
      "Population, percent change - April 1, 2010 (estimates base) to July 1, 2016,  (V2016)     50 non-null object\n",
      "Population, Census, April 1, 2010                                                         50 non-null object\n",
      "Persons under 5 years, percent, July 1, 2016,  (V2016)                                    50 non-null object\n",
      "Persons under 5 years, percent, April 1, 2010                                             50 non-null object\n",
      "Persons under 18 years, percent, July 1, 2016,  (V2016)                                   50 non-null object\n",
      "Persons under 18 years, percent, April 1, 2010                                            50 non-null object\n",
      "Persons 65 years and over, percent,  July 1, 2016,  (V2016)                               50 non-null object\n",
      "Persons 65 years and over, percent, April 1, 2010                                         50 non-null object\n",
      "Female persons, percent,  July 1, 2016,  (V2016)                                          50 non-null object\n",
      "Female persons, percent, April 1, 2010                                                    50 non-null object\n",
      "White alone, percent, July 1, 2016,  (V2016)                                              50 non-null object\n",
      "Black or African American alone, percent, July 1, 2016,  (V2016)                          50 non-null object\n",
      "American Indian and Alaska Native alone, percent, July 1, 2016,  (V2016)                  50 non-null object\n",
      "Asian alone, percent, July 1, 2016,  (V2016)                                              50 non-null object\n",
      "Native Hawaiian and Other Pacific Islander alone, percent, July 1, 2016,  (V2016)         50 non-null object\n",
      "Two or More Races, percent, July 1, 2016,  (V2016)                                        50 non-null object\n",
      "Hispanic or Latino, percent, July 1, 2016,  (V2016)                                       50 non-null object\n",
      "White alone, not Hispanic or Latino, percent, July 1, 2016,  (V2016)                      50 non-null object\n",
      "Veterans, 2011-2015                                                                       50 non-null object\n",
      "Foreign born persons, percent, 2011-2015                                                  50 non-null object\n",
      "Housing units,  July 1, 2016,  (V2016)                                                    50 non-null object\n",
      "Housing units, April 1, 2010                                                              50 non-null object\n",
      "Owner-occupied housing unit rate, 2011-2015                                               50 non-null object\n",
      "Median value of owner-occupied housing units, 2011-2015                                   50 non-null object\n",
      "Median selected monthly owner costs -with a mortgage, 2011-2015                           50 non-null object\n",
      "Median selected monthly owner costs -without a mortgage, 2011-2015                        50 non-null object\n",
      "Median gross rent, 2011-2015                                                              50 non-null object\n",
      "Building permits, 2016                                                                    50 non-null object\n",
      "Households, 2011-2015                                                                     50 non-null object\n",
      "Persons per household, 2011-2015                                                          50 non-null object\n",
      "Living in same house 1 year ago, percent of persons age 1 year+, 2011-2015                50 non-null object\n",
      "Language other than English spoken at home, percent of persons age 5 years+, 2011-2015    50 non-null object\n",
      "High school graduate or higher, percent of persons age 25 years+, 2011-2015               50 non-null object\n",
      "Bachelor's degree or higher, percent of persons age 25 years+, 2011-2015                  50 non-null object\n",
      "With a disability, under age 65 years, percent, 2011-2015                                 50 non-null object\n",
      "Persons  without health insurance, under age 65 years, percent                            50 non-null object\n",
      "In civilian labor force, total, percent of population age 16 years+, 2011-2015            50 non-null object\n",
      "In civilian labor force, female, percent of population age 16 years+, 2011-2015           50 non-null object\n",
      "Total accommodation and food services sales, 2012 ($1,000)                                50 non-null object\n",
      "Total health care and social assistance receipts/revenue, 2012 ($1,000)                   50 non-null object\n",
      "Total manufacturers shipments, 2012 ($1,000)                                              50 non-null object\n",
      "Total merchant wholesaler sales, 2012 ($1,000)                                            50 non-null object\n",
      "Total retail sales, 2012 ($1,000)                                                         50 non-null object\n",
      "Total retail sales per capita, 2012                                                       50 non-null object\n",
      "Mean travel time to work (minutes), workers age 16 years+, 2011-2015                      50 non-null object\n",
      "Median household income (in 2015 dollars), 2011-2015                                      50 non-null object\n",
      "Per capita income in past 12 months (in 2015 dollars), 2011-2015                          50 non-null object\n",
      "Persons in poverty, percent                                                               50 non-null object\n",
      "Total employer establishments, 2015                                                       50 non-null object\n",
      "Total employment, 2015                                                                    50 non-null object\n",
      "Total annual payroll, 2015 ($1,000)                                                       50 non-null object\n",
      "Total employment, percent change, 2014-2015                                               50 non-null object\n",
      "Total nonemployer establishments, 2015                                                    50 non-null object\n",
      "All firms, 2012                                                                           50 non-null object\n",
      "Men-owned firms, 2012                                                                     50 non-null object\n",
      "Women-owned firms, 2012                                                                   50 non-null object\n",
      "Minority-owned firms, 2012                                                                50 non-null object\n",
      "Nonminority-owned firms, 2012                                                             50 non-null object\n",
      "Veteran-owned firms, 2012                                                                 50 non-null object\n",
      "Nonveteran-owned firms, 2012                                                              50 non-null object\n",
      "Population per square mile, 2010                                                          50 non-null object\n",
      "Land area in square miles, 2010                                                           50 non-null object\n",
      "FIPS Code                                                                                 50 non-null object\n",
      "dtypes: object(66)\n",
      "memory usage: 25.9+ KB\n"
     ]
    }
   ],
   "source": [
    "# Use this to find the categories later\n",
    "df_states.info()"
   ]
  },
  {
   "cell_type": "markdown",
   "metadata": {},
   "source": [
    "Next, columns with percentages should be converted to floats. Any string that ends with a percent symbol needs to be divided by 100, but only those strings. Anything using another symbol to stand in for zero should be converted as well.\n",
    "\n",
    "The idea for the code is based on this: https://stackoverflow.com/questions/25669588/convert-percent-string-to-float-in-pandas-read-csv\n",
    "\n",
    "Plus this: https://stackoverflow.com/questions/40950310/strip-trim-all-strings-of-a-dataframe"
   ]
  },
  {
   "cell_type": "code",
   "execution_count": 40,
   "metadata": {},
   "outputs": [],
   "source": [
    "def percent2float(df):\n",
    "    p2f = lambda x: pd.to_numeric(x.replace(\"Z\",\"0\").replace(\"FN\",\"0\").rstrip(\"%\"))/100.0\n",
    "    return df.applymap(p2f)\n",
    "\n",
    "# The \"replace\" commands swap a 0 in.\n",
    "# The \"rstrip\" command removes the tailing percent symbol.\n",
    "# The \"to_numeric\" command turns the string into a number.\n",
    "# Dividing by 100 ensures consistency in the percent's meaning.\n",
    "# The \"applymap\" function is built-in, and vectorizes the column operations for multiple columns in a dataframe."
   ]
  },
  {
   "cell_type": "code",
   "execution_count": 41,
   "metadata": {},
   "outputs": [],
   "source": [
    "cols = np.concatenate([np.arange(5,21),[25],np.arange(33,41),[50,54]])    #Columns with percent symbols\n",
    "rows = np.concatenate([np.arange(0,30),np.arange(42,50)])                 #Rows with percent symbols\n",
    "\n",
    "df_states.iloc[rows,cols] = percent2float(df_states.iloc[rows,cols])"
   ]
  },
  {
   "cell_type": "code",
   "execution_count": 42,
   "metadata": {},
   "outputs": [],
   "source": [
    "def string2float(df):\n",
    "    s2f = lambda x: pd.to_numeric(x)\n",
    "    return df.applymap(s2f)\n",
    "\n",
    "# Some entries have percentages but no percent symbol; it suffices to use \"to_numeric\"."
   ]
  },
  {
   "cell_type": "code",
   "execution_count": 43,
   "metadata": {},
   "outputs": [],
   "source": [
    "cols = np.concatenate([np.arange(5,21),[25],np.arange(33,41),[50,54]])    #Columns with percent symbols\n",
    "rows = np.arange(30,42)                                                   #Rows with percentages as decimals\n",
    "\n",
    "df_states.iloc[rows,cols] = string2float(df_states.iloc[rows,cols])"
   ]
  },
  {
   "cell_type": "markdown",
   "metadata": {},
   "source": [
    "Similarly, columns with dollar signs should be converted to numbers as well. Commas, if present, need to be removed. The code uses the same idea as above."
   ]
  },
  {
   "cell_type": "code",
   "execution_count": 44,
   "metadata": {},
   "outputs": [],
   "source": [
    "def dollar2float(df):\n",
    "    d2f = lambda x: pd.to_numeric(x.lstrip(\"$\").rstrip(\" \").replace(\",\",\"\"))\n",
    "    return df.applymap(d2f)\n",
    "\n",
    "# The \"lstrip\" command removes any initial dollar symbol.\n",
    "# The \"rstrip\" command removes tailing spaces.\n",
    "# The \"replace\" command removes interior commas."
   ]
  },
  {
   "cell_type": "code",
   "execution_count": 45,
   "metadata": {},
   "outputs": [],
   "source": [
    "cols = np.concatenate([np.arange(26,30),[46,48,49]])   #Columns with dollar symbols\n",
    "rows = np.arange(0,50)\n",
    "\n",
    "df_states.iloc[rows,cols] = dollar2float(df_states.iloc[rows,cols])"
   ]
  },
  {
   "cell_type": "markdown",
   "metadata": {},
   "source": [
    "Populations are included as string types as well. Just remove the commas and convert to floats with the same process."
   ]
  },
  {
   "cell_type": "code",
   "execution_count": 46,
   "metadata": {},
   "outputs": [],
   "source": [
    "def comma2float(df):\n",
    "    c2f = lambda x: pd.to_numeric(x.replace(\",\",\"\"))\n",
    "    return df.applymap(c2f)"
   ]
  },
  {
   "cell_type": "code",
   "execution_count": 47,
   "metadata": {},
   "outputs": [],
   "source": [
    "cols = [1,2,4]           #Columns with populations\n",
    "rows = np.arange(0,50)\n",
    "\n",
    "df_states.iloc[rows,cols] = comma2float(df_states.iloc[rows,cols])"
   ]
  },
  {
   "cell_type": "markdown",
   "metadata": {},
   "source": [
    "In case one wants to save these edits so as to not have to rerun the above code:"
   ]
  },
  {
   "cell_type": "code",
   "execution_count": 48,
   "metadata": {},
   "outputs": [],
   "source": [
    "# save\n",
    "df_gun.to_csv(\"gun_edited.csv\", index=False)\n",
    "df_states.to_csv(\"states_edited.csv\", index=False)"
   ]
  },
  {
   "cell_type": "code",
   "execution_count": 49,
   "metadata": {},
   "outputs": [],
   "source": [
    "# reload\n",
    "df_gun = pd.read_csv(\"gun_edited.csv\")\n",
    "df_states = pd.read_csv(\"states_edited.csv\")"
   ]
  },
  {
   "cell_type": "markdown",
   "metadata": {},
   "source": [
    "<a id='eda'></a>\n",
    "## Exploratory Data Analysis\n",
    "\n",
    "\n",
    "### Question 1: Guns and Demographics\n",
    "\n",
    "Is gun ownership/sales related to ethnicity? To age? To education? To income? The following will attempt to give insight into that by calculating per capita gun sales by state, grouping them into quartiles, and seeing which states are higher than average in various categories."
   ]
  },
  {
   "cell_type": "markdown",
   "metadata": {},
   "source": [
    "First, group states by their populations of ethnicities, genders, ages, education, and income. Check whether each state is above or below average compared to the rest of the states in a given statistic."
   ]
  },
  {
   "cell_type": "code",
   "execution_count": 50,
   "metadata": {},
   "outputs": [],
   "source": [
    "def cat_state(demo):\n",
    "    return df_states[demo] > df_states[demo].mean()   #Gives a boolean variable for whether the state is above\n",
    "                                                      #the mean out of all states for that demographic."
   ]
  },
  {
   "cell_type": "code",
   "execution_count": 51,
   "metadata": {},
   "outputs": [],
   "source": [
    "# Creates boolean columns for multiple demographics of interest.\n",
    "df_states_eth_w = cat_state(\"White alone, not Hispanic or Latino, percent, July 1, 2016,  (V2016)\")\n",
    "df_states_eth_b = cat_state(\"Black or African American alone, percent, July 1, 2016,  (V2016)\")\n",
    "df_states_eth_h = cat_state(\"Hispanic or Latino, percent, July 1, 2016,  (V2016)\")\n",
    "df_states_eth_a = cat_state(\"Asian alone, percent, July 1, 2016,  (V2016)\")\n",
    "df_states_eth_n = cat_state(\"American Indian and Alaska Native alone, percent, July 1, 2016,  (V2016)\")\n",
    "df_states_gen_f = cat_state(\"Female persons, percent,  July 1, 2016,  (V2016)\")\n",
    "df_states_age_y = cat_state(\"Persons under 18 years, percent, July 1, 2016,  (V2016)\")\n",
    "df_states_age_o = cat_state(\"Persons 65 years and over, percent,  July 1, 2016,  (V2016)\")\n",
    "df_states_edu_h = cat_state(\"High school graduate or higher, percent of persons age 25 years+, 2011-2015\")\n",
    "df_states_edu_c = cat_state(\"Bachelor's degree or higher, percent of persons age 25 years+, 2011-2015\")\n",
    "df_states_inc_h = cat_state(\"Median household income (in 2015 dollars), 2011-2015\")\n",
    "df_states_inc_p = cat_state(\"Per capita income in past 12 months (in 2015 dollars), 2011-2015\")"
   ]
  },
  {
   "cell_type": "markdown",
   "metadata": {},
   "source": [
    "Concatenate these results with the state list and populations, and relabel the columns to shorter names."
   ]
  },
  {
   "cell_type": "code",
   "execution_count": 52,
   "metadata": {},
   "outputs": [],
   "source": [
    "# Concatenates these into one dataframe.\n",
    "df_demographic = pd.concat([df_states[\"state\"],df_states[\"Population estimates, July 1, 2016,  (V2016)\"],df_states_eth_w,\n",
    "                            df_states_eth_b,df_states_eth_h,df_states_eth_a,df_states_eth_n,df_states_gen_f,df_states_age_y,\n",
    "                            df_states_age_o,df_states_edu_h,df_states_edu_c,df_states_inc_h,df_states_inc_p],axis=1)\n",
    "df_demographic.set_axis([\"state\",\"Population 2016\",\"White\",\"Black\",\"Hispanic\",\"Asian\",\"Native\",\"Female\",\"Young\",\"Old\",\n",
    "                         \"High School\",\"College\",\"Income household\",\"Income per capita\"], axis=1, inplace=True)"
   ]
  },
  {
   "cell_type": "markdown",
   "metadata": {},
   "source": [
    "Now we want gun totals over the years. One column already lists the total by state and month, so it suffices to use a groupby to sum over all the months, per state."
   ]
  },
  {
   "cell_type": "code",
   "execution_count": 53,
   "metadata": {},
   "outputs": [],
   "source": [
    "# Sums the gun totals over all months reported, per state\n",
    "df_gun_total = df_gun.groupby([\"state\"], as_index=False)[\"totals\"].sum()"
   ]
  },
  {
   "cell_type": "markdown",
   "metadata": {},
   "source": [
    "Next, to merge this with the census categories. An inner merger on the states will remove any of the territories not of interest."
   ]
  },
  {
   "cell_type": "code",
   "execution_count": 54,
   "metadata": {},
   "outputs": [],
   "source": [
    "# Merges onto the demographic dataframe.\n",
    "df_stat = pd.merge(df_gun_total, df_demographic, on=\"state\", how=\"inner\")"
   ]
  },
  {
   "cell_type": "markdown",
   "metadata": {},
   "source": [
    "To make a level comparison between the states, which can have very different populations, the guns per capita is calculated next, and appended to the dataframe."
   ]
  },
  {
   "cell_type": "code",
   "execution_count": 55,
   "metadata": {},
   "outputs": [
    {
     "data": {
      "text/html": [
       "<div>\n",
       "<style scoped>\n",
       "    .dataframe tbody tr th:only-of-type {\n",
       "        vertical-align: middle;\n",
       "    }\n",
       "\n",
       "    .dataframe tbody tr th {\n",
       "        vertical-align: top;\n",
       "    }\n",
       "\n",
       "    .dataframe thead th {\n",
       "        text-align: right;\n",
       "    }\n",
       "</style>\n",
       "<table border=\"1\" class=\"dataframe\">\n",
       "  <thead>\n",
       "    <tr style=\"text-align: right;\">\n",
       "      <th></th>\n",
       "      <th>state</th>\n",
       "      <th>totals</th>\n",
       "      <th>Population 2016</th>\n",
       "      <th>White</th>\n",
       "      <th>Black</th>\n",
       "      <th>Hispanic</th>\n",
       "      <th>Asian</th>\n",
       "      <th>Native</th>\n",
       "      <th>Female</th>\n",
       "      <th>Young</th>\n",
       "      <th>Old</th>\n",
       "      <th>High School</th>\n",
       "      <th>College</th>\n",
       "      <th>Income household</th>\n",
       "      <th>Income per capita</th>\n",
       "      <th>Guns per capita</th>\n",
       "    </tr>\n",
       "  </thead>\n",
       "  <tbody>\n",
       "    <tr>\n",
       "      <th>0</th>\n",
       "      <td>Alabama</td>\n",
       "      <td>6706079</td>\n",
       "      <td>4863300</td>\n",
       "      <td>False</td>\n",
       "      <td>True</td>\n",
       "      <td>False</td>\n",
       "      <td>False</td>\n",
       "      <td>False</td>\n",
       "      <td>True</td>\n",
       "      <td>False</td>\n",
       "      <td>True</td>\n",
       "      <td>False</td>\n",
       "      <td>False</td>\n",
       "      <td>False</td>\n",
       "      <td>False</td>\n",
       "      <td>1.378915</td>\n",
       "    </tr>\n",
       "    <tr>\n",
       "      <th>1</th>\n",
       "      <td>Alaska</td>\n",
       "      <td>1137643</td>\n",
       "      <td>741894</td>\n",
       "      <td>False</td>\n",
       "      <td>False</td>\n",
       "      <td>False</td>\n",
       "      <td>True</td>\n",
       "      <td>True</td>\n",
       "      <td>False</td>\n",
       "      <td>True</td>\n",
       "      <td>False</td>\n",
       "      <td>True</td>\n",
       "      <td>False</td>\n",
       "      <td>True</td>\n",
       "      <td>True</td>\n",
       "      <td>1.533431</td>\n",
       "    </tr>\n",
       "    <tr>\n",
       "      <th>2</th>\n",
       "      <td>Arizona</td>\n",
       "      <td>4425714</td>\n",
       "      <td>6931071</td>\n",
       "      <td>False</td>\n",
       "      <td>False</td>\n",
       "      <td>True</td>\n",
       "      <td>False</td>\n",
       "      <td>True</td>\n",
       "      <td>False</td>\n",
       "      <td>True</td>\n",
       "      <td>True</td>\n",
       "      <td>False</td>\n",
       "      <td>False</td>\n",
       "      <td>False</td>\n",
       "      <td>False</td>\n",
       "      <td>0.638532</td>\n",
       "    </tr>\n",
       "    <tr>\n",
       "      <th>3</th>\n",
       "      <td>Arkansas</td>\n",
       "      <td>3752633</td>\n",
       "      <td>2988248</td>\n",
       "      <td>True</td>\n",
       "      <td>True</td>\n",
       "      <td>False</td>\n",
       "      <td>False</td>\n",
       "      <td>False</td>\n",
       "      <td>True</td>\n",
       "      <td>True</td>\n",
       "      <td>True</td>\n",
       "      <td>False</td>\n",
       "      <td>False</td>\n",
       "      <td>False</td>\n",
       "      <td>False</td>\n",
       "      <td>1.255797</td>\n",
       "    </tr>\n",
       "    <tr>\n",
       "      <th>4</th>\n",
       "      <td>California</td>\n",
       "      <td>19014063</td>\n",
       "      <td>39250017</td>\n",
       "      <td>False</td>\n",
       "      <td>False</td>\n",
       "      <td>True</td>\n",
       "      <td>True</td>\n",
       "      <td>False</td>\n",
       "      <td>False</td>\n",
       "      <td>True</td>\n",
       "      <td>False</td>\n",
       "      <td>False</td>\n",
       "      <td>True</td>\n",
       "      <td>True</td>\n",
       "      <td>True</td>\n",
       "      <td>0.484435</td>\n",
       "    </tr>\n",
       "  </tbody>\n",
       "</table>\n",
       "</div>"
      ],
      "text/plain": [
       "        state    totals  Population 2016  White  Black  Hispanic  Asian  \\\n",
       "0     Alabama   6706079          4863300  False   True     False  False   \n",
       "1      Alaska   1137643           741894  False  False     False   True   \n",
       "2     Arizona   4425714          6931071  False  False      True  False   \n",
       "3    Arkansas   3752633          2988248   True   True     False  False   \n",
       "4  California  19014063         39250017  False  False      True   True   \n",
       "\n",
       "   Native  Female  Young    Old  High School  College  Income household  \\\n",
       "0   False    True  False   True        False    False             False   \n",
       "1    True   False   True  False         True    False              True   \n",
       "2    True   False   True   True        False    False             False   \n",
       "3   False    True   True   True        False    False             False   \n",
       "4   False   False   True  False        False     True              True   \n",
       "\n",
       "   Income per capita  Guns per capita  \n",
       "0              False         1.378915  \n",
       "1               True         1.533431  \n",
       "2              False         0.638532  \n",
       "3              False         1.255797  \n",
       "4               True         0.484435  "
      ]
     },
     "execution_count": 55,
     "metadata": {},
     "output_type": "execute_result"
    }
   ],
   "source": [
    "df_gpc = df_stat[\"totals\"]/pd.to_numeric(df_stat[\"Population 2016\"])   #Divides guns by population\n",
    "\n",
    "df = pd.concat([df_stat, df_gpc], axis=1)                              #Concatenates onto the above dataframe\n",
    "df.rename(columns={0:\"Guns per capita\"}, inplace=True)\n",
    "df.head()"
   ]
  },
  {
   "cell_type": "markdown",
   "metadata": {},
   "source": [
    "To get a sense of where these states are relative to each other, examine the overall statistics of guns per capita, and split them by whether the state is above or below the average for a certain demographic. Side-by-side histograms can be used to compare the distributions.\n",
    "\n",
    "The method for plotting was based off of this: https://stackoverflow.com/questions/6871201/plot-two-histograms-at-the-same-time-with-matplotlib"
   ]
  },
  {
   "cell_type": "code",
   "execution_count": 56,
   "metadata": {},
   "outputs": [
    {
     "data": {
      "text/plain": [
       "count    50.000000\n",
       "mean      1.030104\n",
       "std       0.908643\n",
       "min       0.128107\n",
       "25%       0.697868\n",
       "50%       0.909571\n",
       "75%       1.181876\n",
       "max       6.707822\n",
       "Name: Guns per capita, dtype: float64"
      ]
     },
     "execution_count": 56,
     "metadata": {},
     "output_type": "execute_result"
    }
   ],
   "source": [
    "df[\"Guns per capita\"].describe()"
   ]
  },
  {
   "cell_type": "markdown",
   "metadata": {},
   "source": [
    "Even at a glance, the maximum is much further away from either the median or the interquartile range than the minimum is, which may indicate an outlier or a skewed distribution. It is helpful to look at the overall distribution before splitting into categories."
   ]
  },
  {
   "cell_type": "code",
   "execution_count": 57,
   "metadata": {},
   "outputs": [
    {
     "data": {
      "text/plain": [
       "Text(0,0.5,'State count')"
      ]
     },
     "execution_count": 57,
     "metadata": {},
     "output_type": "execute_result"
    },
    {
     "data": {
      "image/png": "[encoded data removed]",
      "text/plain": [
       "<Figure size 432x288 with 1 Axes>"
      ]
     },
     "metadata": {},
     "output_type": "display_data"
    }
   ],
   "source": [
    "bins = np.linspace(0,6.8,34)                                    #Creates bins using the descriptory statistics\n",
    "plt.hist(df[\"Guns per capita\"], bins, alpha=1, color='blue')    #Plots histogram\n",
    "plt.xlabel('Guns per capita')                                   #Label x-axis\n",
    "plt.ylabel('State count')                                       #Label y-axis"
   ]
  },
  {
   "cell_type": "code",
   "execution_count": 58,
   "metadata": {},
   "outputs": [
    {
     "data": {
      "text/plain": [
       "<function matplotlib.pyplot.show(*args, **kw)>"
      ]
     },
     "execution_count": 58,
     "metadata": {},
     "output_type": "execute_result"
    },
    {
     "data": {
      "image/png": "[encoded data removed]",
      "text/plain": [
       "<Figure size 432x288 with 1 Axes>"
      ]
     },
     "metadata": {},
     "output_type": "display_data"
    }
   ],
   "source": [
    "plt.boxplot(df[\"Guns per capita\"])   #Creates boxplot\n",
    "plt.title('Guns per capita')         #Title\n",
    "plt.show"
   ]
  },
  {
   "cell_type": "markdown",
   "metadata": {},
   "source": [
    "As expected from the summary statistics, the histogram and the boxplot show an outlier, which is far above the rest of the distribution. The distribution itself appears to be single-peaked, and slightly asymmetrical even ignoring the outlier.\n",
    "\n",
    "By the way, to find which state that outlier is:"
   ]
  },
  {
   "cell_type": "code",
   "execution_count": 59,
   "metadata": {},
   "outputs": [
    {
     "data": {
      "text/plain": [
       "16    Kentucky\n",
       "Name: state, dtype: object"
      ]
     },
     "execution_count": 59,
     "metadata": {},
     "output_type": "execute_result"
    }
   ],
   "source": [
    "df[df[\"Guns per capita\"]==df[\"Guns per capita\"].max()][\"state\"]    #Locate maximum, then identify state"
   ]
  },
  {
   "cell_type": "markdown",
   "metadata": {},
   "source": [
    "Kentucky is that outlier, and because of this, any attempt to find a correlation coefficient between guns per capita and a quantitative variable will be irregularly influenced by one state. It instead makes sense to compare the overall distributions between states above/below the average demographic, then compare from there."
   ]
  },
  {
   "cell_type": "code",
   "execution_count": 60,
   "metadata": {},
   "outputs": [],
   "source": [
    "def plt_stat(demo):\n",
    "    dfy = df[df[demo]][\"Guns per capita\"]                                #Selects the higher than average\n",
    "    dfn = df[~df[demo]][\"Guns per capita\"]                               #Selects the lower than average\n",
    "    bins = np.linspace(0,6.8,34)                                         #Creates bins\n",
    "    plt.hist(dfy, bins, alpha=0.5, label='More ' + demo, color='green')  #Histogram for higher than average\n",
    "    plt.hist(dfn, bins, alpha=0.5, label='Less ' + demo, color='red')    #Histogram for lower than average\n",
    "    plt.legend(loc='upper right')                                        #Legend\n",
    "    plt.xlabel('Guns per capita')                                        #Label x-axis\n",
    "    plt.ylabel('State count')                                            #Label y-axis\n",
    "    plt.title(demo)                                                      #Title is the demographic\n",
    "    plt.show"
   ]
  },
  {
   "cell_type": "code",
   "execution_count": 61,
   "metadata": {},
   "outputs": [
    {
     "data": {
      "image/png": "[encoded data removed]",
      "text/plain": [
       "<Figure size 432x288 with 1 Axes>"
      ]
     },
     "metadata": {},
     "output_type": "display_data"
    }
   ],
   "source": [
    "plt_stat(\"White\")"
   ]
  },
  {
   "cell_type": "markdown",
   "metadata": {},
   "source": [
    "The distribution of states with more White people appears to have a higher mean, indicating more guns per capita."
   ]
  },
  {
   "cell_type": "code",
   "execution_count": 62,
   "metadata": {},
   "outputs": [
    {
     "data": {
      "image/png": "[encoded data removed]",
      "text/plain": [
       "<Figure size 432x288 with 1 Axes>"
      ]
     },
     "metadata": {},
     "output_type": "display_data"
    }
   ],
   "source": [
    "plt_stat(\"Black\")"
   ]
  },
  {
   "cell_type": "markdown",
   "metadata": {},
   "source": [
    "In contrast, the distribution of states with more Black people appears to have a lower mean."
   ]
  },
  {
   "cell_type": "code",
   "execution_count": 63,
   "metadata": {},
   "outputs": [
    {
     "data": {
      "image/png": "[encoded data removed]",
      "text/plain": [
       "<Figure size 432x288 with 1 Axes>"
      ]
     },
     "metadata": {},
     "output_type": "display_data"
    }
   ],
   "source": [
    "plt_stat(\"Hispanic\")"
   ]
  },
  {
   "cell_type": "markdown",
   "metadata": {},
   "source": [
    "Similarly, the distribution of states with more Hispanic people appears to have a lower mean."
   ]
  },
  {
   "cell_type": "code",
   "execution_count": 64,
   "metadata": {},
   "outputs": [
    {
     "data": {
      "image/png": "[encoded data removed]",
      "text/plain": [
       "<Figure size 432x288 with 1 Axes>"
      ]
     },
     "metadata": {},
     "output_type": "display_data"
    }
   ],
   "source": [
    "plt_stat(\"Asian\")"
   ]
  },
  {
   "cell_type": "markdown",
   "metadata": {},
   "source": [
    "Similarly, the distribution of states with more Asian people appears to have a lower mean."
   ]
  },
  {
   "cell_type": "code",
   "execution_count": 65,
   "metadata": {},
   "outputs": [
    {
     "data": {
      "image/png": "[encoded data removed]",
      "text/plain": [
       "<Figure size 432x288 with 1 Axes>"
      ]
     },
     "metadata": {},
     "output_type": "display_data"
    }
   ],
   "source": [
    "plt_stat(\"Native\")"
   ]
  },
  {
   "cell_type": "markdown",
   "metadata": {},
   "source": [
    "On the other hand, it is harder to draw a conclusion about states with more/fewer Native people, as there are so few states with a more than average Native population. This may indicate a skew distribution for Native percent populations among states."
   ]
  },
  {
   "cell_type": "code",
   "execution_count": 66,
   "metadata": {},
   "outputs": [
    {
     "data": {
      "image/png": "[encoded data removed]",
      "text/plain": [
       "<Figure size 432x288 with 1 Axes>"
      ]
     },
     "metadata": {},
     "output_type": "display_data"
    }
   ],
   "source": [
    "plt_stat(\"Female\")"
   ]
  },
  {
   "cell_type": "markdown",
   "metadata": {},
   "source": [
    "The states with more females seem to have a distribution with a lower peak, but the presence of the outlier also makes it more difficult to draw a conclusion here."
   ]
  },
  {
   "cell_type": "code",
   "execution_count": 67,
   "metadata": {},
   "outputs": [
    {
     "data": {
      "image/png": "[encoded data removed]",
      "text/plain": [
       "<Figure size 432x288 with 1 Axes>"
      ]
     },
     "metadata": {},
     "output_type": "display_data"
    }
   ],
   "source": [
    "plt_stat(\"Young\")"
   ]
  },
  {
   "cell_type": "markdown",
   "metadata": {},
   "source": [
    "The distribution of states with more minors appears to have a higher mean."
   ]
  },
  {
   "cell_type": "code",
   "execution_count": 68,
   "metadata": {},
   "outputs": [
    {
     "data": {
      "image/png": "[encoded data removed]",
      "text/plain": [
       "<Figure size 432x288 with 1 Axes>"
      ]
     },
     "metadata": {},
     "output_type": "display_data"
    }
   ],
   "source": [
    "plt_stat(\"Old\")"
   ]
  },
  {
   "cell_type": "markdown",
   "metadata": {},
   "source": [
    "There is much overlap between the distributions of states with more and fewer seniors, so no conclusion can easily be drawn."
   ]
  },
  {
   "cell_type": "code",
   "execution_count": 69,
   "metadata": {},
   "outputs": [
    {
     "data": {
      "image/png": "[encoded data removed]",
      "text/plain": [
       "<Figure size 432x288 with 1 Axes>"
      ]
     },
     "metadata": {},
     "output_type": "display_data"
    }
   ],
   "source": [
    "plt_stat(\"High School\")"
   ]
  },
  {
   "cell_type": "markdown",
   "metadata": {},
   "source": [
    "Similarly, there is much overlap between the distribution of states with more and fewer high school educated people, so no conclusion can easily be drawn."
   ]
  },
  {
   "cell_type": "code",
   "execution_count": 70,
   "metadata": {},
   "outputs": [
    {
     "data": {
      "image/png": "[encoded data removed]",
      "text/plain": [
       "<Figure size 432x288 with 1 Axes>"
      ]
     },
     "metadata": {},
     "output_type": "display_data"
    }
   ],
   "source": [
    "plt_stat(\"College\")"
   ]
  },
  {
   "cell_type": "markdown",
   "metadata": {},
   "source": [
    "On the other hand, states with more college educated populations seem to have fewer guns per capita."
   ]
  },
  {
   "cell_type": "code",
   "execution_count": 71,
   "metadata": {},
   "outputs": [
    {
     "data": {
      "image/png": "[encoded data removed]",
      "text/plain": [
       "<Figure size 432x288 with 1 Axes>"
      ]
     },
     "metadata": {},
     "output_type": "display_data"
    }
   ],
   "source": [
    "plt_stat(\"Income per capita\")"
   ]
  },
  {
   "cell_type": "markdown",
   "metadata": {},
   "source": [
    "The distributions overlap, which makes it difficult to draw any conclusion about income per capita and guns per capita."
   ]
  },
  {
   "cell_type": "code",
   "execution_count": 72,
   "metadata": {},
   "outputs": [
    {
     "data": {
      "image/png": "[encoded data removed]",
      "text/plain": [
       "<Figure size 432x288 with 1 Axes>"
      ]
     },
     "metadata": {},
     "output_type": "display_data"
    }
   ],
   "source": [
    "plt_stat(\"Income household\")"
   ]
  },
  {
   "cell_type": "markdown",
   "metadata": {},
   "source": [
    "Similar for the household income: no conclusion can be drawn from this."
   ]
  },
  {
   "cell_type": "markdown",
   "metadata": {},
   "source": [
    "As ethnicity and education appear to be the strongest correlators to guns per capita, from these histograms, then it makes sense to examine any quantitative relationship. A visual examination of the scatterplots (but without putting too much emphasis on the outlier, which is what a correlation coefficient could do) may give insight."
   ]
  },
  {
   "cell_type": "code",
   "execution_count": 73,
   "metadata": {},
   "outputs": [],
   "source": [
    "x = df[\"Guns per capita\"]\n",
    "y1 = df_states[\"White alone, not Hispanic or Latino, percent, July 1, 2016,  (V2016)\"]\n",
    "y2 = df_states[\"Bachelor's degree or higher, percent of persons age 25 years+, 2011-2015\"]"
   ]
  },
  {
   "cell_type": "code",
   "execution_count": 74,
   "metadata": {},
   "outputs": [
    {
     "data": {
      "text/plain": [
       "<function matplotlib.pyplot.show(*args, **kw)>"
      ]
     },
     "execution_count": 74,
     "metadata": {},
     "output_type": "execute_result"
    },
    {
     "data": {
      "image/png": "[encoded data removed]",
      "text/plain": [
       "<Figure size 432x288 with 1 Axes>"
      ]
     },
     "metadata": {},
     "output_type": "display_data"
    }
   ],
   "source": [
    "plt.scatter(x,y1)\n",
    "plt.xlabel(\"Guns per capita\")\n",
    "plt.ylabel(\"Percent of White (only)\")\n",
    "plt.show"
   ]
  },
  {
   "cell_type": "code",
   "execution_count": 75,
   "metadata": {},
   "outputs": [
    {
     "data": {
      "text/plain": [
       "<function matplotlib.pyplot.show(*args, **kw)>"
      ]
     },
     "execution_count": 75,
     "metadata": {},
     "output_type": "execute_result"
    },
    {
     "data": {
      "image/png": "[encoded data removed]",
      "text/plain": [
       "<Figure size 432x288 with 1 Axes>"
      ]
     },
     "metadata": {},
     "output_type": "display_data"
    }
   ],
   "source": [
    "plt.scatter(x,y2)\n",
    "plt.xlabel(\"Guns per capita\")\n",
    "plt.ylabel(\"Percent of college educated\")\n",
    "plt.show"
   ]
  },
  {
   "cell_type": "markdown",
   "metadata": {},
   "source": [
    "Even ignoring the outlier, there appears to be a positive correlation between guns per capita and the White population, and a negative correlation between guns per capita and the college-educated population. The outlier, while not lying on the trend, would still be consistent with the positive/negative correlations."
   ]
  },
  {
   "cell_type": "markdown",
   "metadata": {},
   "source": [
    "### Question 2: Guns over time\n",
    "\n",
    "Next, to investigate how gun ownership has changed over time, one method is to sum each state over each year, and compare them at the beginning and the end. Since a full year would be summed over twelve months, the initial and final years are removed from the data set as their information is missing."
   ]
  },
  {
   "cell_type": "markdown",
   "metadata": {},
   "source": [
    "As the months are listed as strings in the format \"yyyy-mm\", to group them by year, it suffices to take the first four items in the string."
   ]
  },
  {
   "cell_type": "code",
   "execution_count": 76,
   "metadata": {},
   "outputs": [],
   "source": [
    "df_gun[\"month\"] = df_gun[\"month\"].str[:4]                #Selects first four per entry in month column\n",
    "df_gun.rename(columns={\"month\":\"year\"}, inplace=True)    #Rename column"
   ]
  },
  {
   "cell_type": "markdown",
   "metadata": {},
   "source": [
    "To drop certain years, the following was used: https://stackoverflow.com/questions/13851535/how-to-delete-rows-from-a-pandas-dataframe-based-on-a-conditional-expression"
   ]
  },
  {
   "cell_type": "code",
   "execution_count": 77,
   "metadata": {},
   "outputs": [],
   "source": [
    "#Drop any from the years 1998 and 2017, which don't have all months.\n",
    "df_guns_year = df_gun.drop(df_gun[(df_gun[\"year\"] == \"2017\") | (df_gun[\"year\"] == \"1998\")].index)"
   ]
  },
  {
   "cell_type": "markdown",
   "metadata": {},
   "source": [
    "Next, summing over the twelve months in each year, so they can be categorized by year and state:"
   ]
  },
  {
   "cell_type": "code",
   "execution_count": 78,
   "metadata": {},
   "outputs": [],
   "source": [
    "#Sums over months with \"groupby\"\n",
    "df_guns_year = df_guns_year.groupby([\"year\",\"state\"], as_index=False).sum()"
   ]
  },
  {
   "cell_type": "markdown",
   "metadata": {},
   "source": [
    "Now we're going to examine the first and last years, 1999 and 2016. Drop the remaining years and merge:"
   ]
  },
  {
   "cell_type": "code",
   "execution_count": 79,
   "metadata": {},
   "outputs": [
    {
     "data": {
      "text/html": [
       "<div>\n",
       "<style scoped>\n",
       "    .dataframe tbody tr th:only-of-type {\n",
       "        vertical-align: middle;\n",
       "    }\n",
       "\n",
       "    .dataframe tbody tr th {\n",
       "        vertical-align: top;\n",
       "    }\n",
       "\n",
       "    .dataframe thead th {\n",
       "        text-align: right;\n",
       "    }\n",
       "</style>\n",
       "<table border=\"1\" class=\"dataframe\">\n",
       "  <thead>\n",
       "    <tr style=\"text-align: right;\">\n",
       "      <th></th>\n",
       "      <th>state</th>\n",
       "      <th>1999 total guns</th>\n",
       "      <th>2016 total guns</th>\n",
       "    </tr>\n",
       "  </thead>\n",
       "  <tbody>\n",
       "    <tr>\n",
       "      <th>0</th>\n",
       "      <td>Alabama</td>\n",
       "      <td>246756</td>\n",
       "      <td>616947</td>\n",
       "    </tr>\n",
       "    <tr>\n",
       "      <th>1</th>\n",
       "      <td>Alaska</td>\n",
       "      <td>43073</td>\n",
       "      <td>87647</td>\n",
       "    </tr>\n",
       "    <tr>\n",
       "      <th>2</th>\n",
       "      <td>Arizona</td>\n",
       "      <td>173548</td>\n",
       "      <td>416279</td>\n",
       "    </tr>\n",
       "    <tr>\n",
       "      <th>3</th>\n",
       "      <td>Arkansas</td>\n",
       "      <td>184616</td>\n",
       "      <td>266014</td>\n",
       "    </tr>\n",
       "    <tr>\n",
       "      <th>4</th>\n",
       "      <td>California</td>\n",
       "      <td>883144</td>\n",
       "      <td>2377167</td>\n",
       "    </tr>\n",
       "  </tbody>\n",
       "</table>\n",
       "</div>"
      ],
      "text/plain": [
       "        state  1999 total guns  2016 total guns\n",
       "0     Alabama           246756           616947\n",
       "1      Alaska            43073            87647\n",
       "2     Arizona           173548           416279\n",
       "3    Arkansas           184616           266014\n",
       "4  California           883144          2377167"
      ]
     },
     "execution_count": 79,
     "metadata": {},
     "output_type": "execute_result"
    }
   ],
   "source": [
    "#Selects only the entries from the initial and final year\n",
    "df_guns_1999 = df_guns_year[df_guns_year[\"year\"] == \"1999\"].drop(\"year\", axis=1).rename(columns={\"totals\":\"1999 total guns\"})\n",
    "df_guns_2016 = df_guns_year[df_guns_year[\"year\"] == \"2016\"].drop(\"year\", axis=1).rename(columns={\"totals\":\"2016 total guns\"})\n",
    "\n",
    "#Merges those two years onto one dataframe\n",
    "df_guns_change = pd.merge(df_guns_1999, df_guns_2016, on=\"state\", how=\"inner\")\n",
    "df_guns_change.head()"
   ]
  },
  {
   "cell_type": "markdown",
   "metadata": {},
   "source": [
    "Comparing the distributions, in particular the means, is one way of examining the change in guns:"
   ]
  },
  {
   "cell_type": "code",
   "execution_count": 80,
   "metadata": {},
   "outputs": [
    {
     "data": {
      "text/html": [
       "<div>\n",
       "<style scoped>\n",
       "    .dataframe tbody tr th:only-of-type {\n",
       "        vertical-align: middle;\n",
       "    }\n",
       "\n",
       "    .dataframe tbody tr th {\n",
       "        vertical-align: top;\n",
       "    }\n",
       "\n",
       "    .dataframe thead th {\n",
       "        text-align: right;\n",
       "    }\n",
       "</style>\n",
       "<table border=\"1\" class=\"dataframe\">\n",
       "  <thead>\n",
       "    <tr style=\"text-align: right;\">\n",
       "      <th></th>\n",
       "      <th>1999 total guns</th>\n",
       "      <th>2016 total guns</th>\n",
       "    </tr>\n",
       "  </thead>\n",
       "  <tbody>\n",
       "    <tr>\n",
       "      <th>count</th>\n",
       "      <td>55.000000</td>\n",
       "      <td>5.500000e+01</td>\n",
       "    </tr>\n",
       "    <tr>\n",
       "      <th>mean</th>\n",
       "      <td>164431.763636</td>\n",
       "      <td>4.986457e+05</td>\n",
       "    </tr>\n",
       "    <tr>\n",
       "      <th>std</th>\n",
       "      <td>175487.801422</td>\n",
       "      <td>6.691289e+05</td>\n",
       "    </tr>\n",
       "    <tr>\n",
       "      <th>min</th>\n",
       "      <td>0.000000</td>\n",
       "      <td>1.700000e+01</td>\n",
       "    </tr>\n",
       "    <tr>\n",
       "      <th>25%</th>\n",
       "      <td>38156.000000</td>\n",
       "      <td>1.117515e+05</td>\n",
       "    </tr>\n",
       "    <tr>\n",
       "      <th>50%</th>\n",
       "      <td>133674.000000</td>\n",
       "      <td>2.761610e+05</td>\n",
       "    </tr>\n",
       "    <tr>\n",
       "      <th>75%</th>\n",
       "      <td>207595.000000</td>\n",
       "      <td>6.072150e+05</td>\n",
       "    </tr>\n",
       "    <tr>\n",
       "      <th>max</th>\n",
       "      <td>883144.000000</td>\n",
       "      <td>3.676847e+06</td>\n",
       "    </tr>\n",
       "  </tbody>\n",
       "</table>\n",
       "</div>"
      ],
      "text/plain": [
       "       1999 total guns  2016 total guns\n",
       "count        55.000000     5.500000e+01\n",
       "mean     164431.763636     4.986457e+05\n",
       "std      175487.801422     6.691289e+05\n",
       "min           0.000000     1.700000e+01\n",
       "25%       38156.000000     1.117515e+05\n",
       "50%      133674.000000     2.761610e+05\n",
       "75%      207595.000000     6.072150e+05\n",
       "max      883144.000000     3.676847e+06"
      ]
     },
     "execution_count": 80,
     "metadata": {},
     "output_type": "execute_result"
    }
   ],
   "source": [
    "df_guns_change.describe()"
   ]
  },
  {
   "cell_type": "code",
   "execution_count": 81,
   "metadata": {},
   "outputs": [
    {
     "data": {
      "text/plain": [
       "334213.90909090906"
      ]
     },
     "execution_count": 81,
     "metadata": {},
     "output_type": "execute_result"
    }
   ],
   "source": [
    "df_guns_change[\"2016 total guns\"].mean() - df_guns_change[\"1999 total guns\"].mean()"
   ]
  },
  {
   "cell_type": "code",
   "execution_count": 82,
   "metadata": {},
   "outputs": [
    {
     "data": {
      "text/plain": [
       "3.0325386148020286"
      ]
     },
     "execution_count": 82,
     "metadata": {},
     "output_type": "execute_result"
    }
   ],
   "source": [
    "df_guns_change[\"2016 total guns\"].sum() / df_guns_change[\"1999 total guns\"].sum()"
   ]
  },
  {
   "cell_type": "markdown",
   "metadata": {},
   "source": [
    "From this, it is evident that gun sales have increased over time overall. In fact, there are about three times as many guns between the years 1999 and 2016, and the distributions have gotten broader, from looking at the change in the standard deviation and interquartile range.\n",
    "\n",
    "A scatterplot is another way to examine the relationship between these two variables."
   ]
  },
  {
   "cell_type": "code",
   "execution_count": 83,
   "metadata": {},
   "outputs": [
    {
     "data": {
      "text/plain": [
       "Text(0.5,1,'Change in guns by state')"
      ]
     },
     "execution_count": 83,
     "metadata": {},
     "output_type": "execute_result"
    },
    {
     "data": {
      "image/png": "[encoded data removed]",
      "text/plain": [
       "<Figure size 432x288 with 1 Axes>"
      ]
     },
     "metadata": {},
     "output_type": "display_data"
    }
   ],
   "source": [
    "df_guns_change.plot(x=\"1999 total guns\", y=\"2016 total guns\", kind=\"scatter\")    #Creates scatter plot\n",
    "plt.title(\"Change in guns by state\")                                             #Title"
   ]
  },
  {
   "cell_type": "markdown",
   "metadata": {},
   "source": [
    "While a regression isn't being performed here, it appears many of the states and territories lie close to the line $y=2x$, which would indicate states and territories where guns would double between the years 1999 and 2016. It's fairly consistent across several states, from the ones with fewer guns to the ones with more guns, although the outliers appear to be far above the line, which would indicate faster than average gun growth."
   ]
  },
  {
   "cell_type": "markdown",
   "metadata": {},
   "source": [
    "Another way to examine gun trends is to look at the boxplot distributions of guns between the initial and final years."
   ]
  },
  {
   "cell_type": "code",
   "execution_count": 84,
   "metadata": {},
   "outputs": [
    {
     "data": {
      "text/plain": [
       "<function matplotlib.pyplot.show(*args, **kw)>"
      ]
     },
     "execution_count": 84,
     "metadata": {},
     "output_type": "execute_result"
    },
    {
     "data": {
      "image/png": "[encoded data removed]",
      "text/plain": [
       "<Figure size 432x288 with 1 Axes>"
      ]
     },
     "metadata": {},
     "output_type": "display_data"
    }
   ],
   "source": [
    "x = df_guns_change[\"1999 total guns\"]   #Selects 1999\n",
    "y = df_guns_change[\"2016 total guns\"]   #Selects 2016\n",
    "\n",
    "plt.boxplot([x,y])                      #Creates side-by-side boxplots\n",
    "plt.xlabel('Year')                      #Label for x-axis\n",
    "plt.ylabel('Guns per capita')           #Label for y-axis\n",
    "plt.title('Change in guns')             #Title\n",
    "plt.xticks([1,2],('1999','2016'))       #Ticks for x-axis\n",
    "plt.show"
   ]
  },
  {
   "cell_type": "markdown",
   "metadata": {},
   "source": [
    "Evidently guns have grown over years, but the boxplots show roughly similar distribution shapes, albeit stretched."
   ]
  },
  {
   "cell_type": "markdown",
   "metadata": {},
   "source": [
    "A more direct method of examining the trend of overall gun sales is to sum over all the states, then plot those totals over the years."
   ]
  },
  {
   "cell_type": "code",
   "execution_count": 85,
   "metadata": {},
   "outputs": [
    {
     "data": {
      "text/html": [
       "<div>\n",
       "<style scoped>\n",
       "    .dataframe tbody tr th:only-of-type {\n",
       "        vertical-align: middle;\n",
       "    }\n",
       "\n",
       "    .dataframe tbody tr th {\n",
       "        vertical-align: top;\n",
       "    }\n",
       "\n",
       "    .dataframe thead th {\n",
       "        text-align: right;\n",
       "    }\n",
       "</style>\n",
       "<table border=\"1\" class=\"dataframe\">\n",
       "  <thead>\n",
       "    <tr style=\"text-align: right;\">\n",
       "      <th></th>\n",
       "      <th>year</th>\n",
       "      <th>totals</th>\n",
       "    </tr>\n",
       "  </thead>\n",
       "  <tbody>\n",
       "    <tr>\n",
       "      <th>0</th>\n",
       "      <td>1999</td>\n",
       "      <td>9043747</td>\n",
       "    </tr>\n",
       "    <tr>\n",
       "      <th>1</th>\n",
       "      <td>2000</td>\n",
       "      <td>8427096</td>\n",
       "    </tr>\n",
       "    <tr>\n",
       "      <th>2</th>\n",
       "      <td>2001</td>\n",
       "      <td>8820045</td>\n",
       "    </tr>\n",
       "    <tr>\n",
       "      <th>3</th>\n",
       "      <td>2002</td>\n",
       "      <td>8367069</td>\n",
       "    </tr>\n",
       "    <tr>\n",
       "      <th>4</th>\n",
       "      <td>2003</td>\n",
       "      <td>8402244</td>\n",
       "    </tr>\n",
       "  </tbody>\n",
       "</table>\n",
       "</div>"
      ],
      "text/plain": [
       "   year   totals\n",
       "0  1999  9043747\n",
       "1  2000  8427096\n",
       "2  2001  8820045\n",
       "3  2002  8367069\n",
       "4  2003  8402244"
      ]
     },
     "execution_count": 85,
     "metadata": {},
     "output_type": "execute_result"
    }
   ],
   "source": [
    "df_year = df_guns_year.groupby(\"year\", as_index=False).sum()    #Sums over states\n",
    "df_year.head()"
   ]
  },
  {
   "cell_type": "code",
   "execution_count": 86,
   "metadata": {},
   "outputs": [
    {
     "data": {
      "text/plain": [
       "<function matplotlib.pyplot.show(*args, **kw)>"
      ]
     },
     "execution_count": 86,
     "metadata": {},
     "output_type": "execute_result"
    },
    {
     "data": {
      "image/png": "[encoded data removed]",
      "text/plain": [
       "<Figure size 432x288 with 1 Axes>"
      ]
     },
     "metadata": {},
     "output_type": "display_data"
    }
   ],
   "source": [
    "x=pd.to_numeric(df_year[\"year\"])        #Converts years from strings to numbers\n",
    "y=df_year[\"totals\"]\n",
    "\n",
    "plt.scatter(x,y)                        #Scatter plot\n",
    "plt.xticks(np.arange(2000,2020,4))      #Sets the ticks for every 4 years\n",
    "plt.xlabel('Year')                      #Label x-axis\n",
    "plt.ylabel('Gun Sales')                 #Label y-axis\n",
    "plt.title('Gun Sales over the years')   #Title\n",
    "plt.show"
   ]
  },
  {
   "cell_type": "markdown",
   "metadata": {},
   "source": [
    "It appears that gun sales were somewhat level between 1999 and 2005, but grow from 2005 to 2016, close to a linear pattern in the latter interval. This would suggest a shift around the year 2005, although the reason cannot be determined from this."
   ]
  },
  {
   "cell_type": "markdown",
   "metadata": {},
   "source": [
    "### Limitations\n",
    "\n",
    "One major limitation is the grouping of data by states, since both the census data and the FBI gun data were grouped by that. While states may be statistically associated with different demographics, states are not monolithic entities, and going between cities or even counties can show a very different cross-section of the population. What could give a more accurate representation is if the census also determined gun purchase individually, then binary statistics could be done with each demographic of interest.\n",
    "\n",
    "The gun data itself was sufficient to determine trends, but the data here did not say why these trends occurred. In particular, why is Kentucky an outlier in guns when it wasn't an outlier in the demographic variables correlated with guns, or what happened in 2005 that caused the increase in gun purchases, which isn't covered by any data collected, and might be related to entirely different variables."
   ]
  },
  {
   "cell_type": "markdown",
   "metadata": {},
   "source": [
    "<a id='conclusions'></a>\n",
    "## Conclusions\n",
    "\n",
    "Further quantitative study would be required to draw precise conclusions as to the correlations. But it is evident from this study that gun ownership tends to be correlated with a higher White population, a lower ethnic minority population, and a less educated population. Depending on the actual cause of this, there may be social implications.\n",
    "\n",
    "Additionally, despite the varying demographics across states, there's a somewhat consistent growth pattern between guns in 1999 versus guns in 2016, with gun purchases increasing over time. This increase appears to be steady since 2005."
   ]
  },
  {
   "cell_type": "code",
   "execution_count": null,
   "metadata": {},
   "outputs": [],
   "source": []
  }
 ],
 "metadata": {
  "kernelspec": {
   "display_name": "Python 3",
   "language": "python",
   "name": "python3"
  },
  "language_info": {
   "codemirror_mode": {
    "name": "ipython",
    "version": 3
   },
   "file_extension": ".py",
   "mimetype": "text/x-python",
   "name": "python",
   "nbconvert_exporter": "python",
   "pygments_lexer": "ipython3",
   "version": "3.6.6"
  }
 },
 "nbformat": 4,
 "nbformat_minor": 2
}
